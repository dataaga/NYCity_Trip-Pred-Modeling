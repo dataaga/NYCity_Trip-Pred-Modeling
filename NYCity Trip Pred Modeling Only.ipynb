{
 "cells": [
  {
   "cell_type": "markdown",
   "id": "8cee86fa",
   "metadata": {},
   "source": [
    "# Import Package"
   ]
  },
  {
   "cell_type": "code",
   "execution_count": 42,
   "id": "753e32bd",
   "metadata": {
    "ExecuteTime": {
     "end_time": "2023-07-05T16:25:13.117153Z",
     "start_time": "2023-07-05T16:25:13.098790Z"
    }
   },
   "outputs": [],
   "source": [
    "import warnings\n",
    "warnings.filterwarnings('ignore')\n",
    "warnings.simplefilter('ignore')\n",
    "\n",
    "import numpy as np\n",
    "import pandas as pd\n",
    "import seaborn as sns\n",
    "import folium\n",
    "import matplotlib.pyplot as plt\n",
    "%matplotlib inline\n",
    "\n",
    "from sklearn.preprocessing import StandardScaler\n",
    "\n",
    "import xgboost as xgb\n",
    "import lightgbm as lgb\n",
    "from lightgbm.callback import log_evaluation\n",
    "\n",
    "from sklearn.tree import DecisionTreeRegressor\n",
    "from sklearn.linear_model import LogisticRegression\n",
    "from sklearn.ensemble import RandomForestRegressor\n",
    "from sklearn.experimental import enable_halving_search_cv\n",
    "from sklearn.model_selection import train_test_split, KFold, GridSearchCV, HalvingGridSearchCV\n",
    "from sklearn.metrics import (r2_score,mean_absolute_error,mean_squared_error,mean_squared_log_error)"
   ]
  },
  {
   "cell_type": "markdown",
   "id": "0a4e606f",
   "metadata": {},
   "source": [
    "# Background"
   ]
  },
  {
   "cell_type": "markdown",
   "id": "9051f1ca",
   "metadata": {},
   "source": [
    "About the data:<br>\n",
    "The dataset used for this analysis is derived from the 2016 NYC Yellow Cab trip record data, which was made accessible through Big Query on the Google Cloud Platform. The original source of the data is the NYC Taxi and Limousine Commission (TLC). It includes various fields such as the time and location of taxi pickups, along with drop-off locations and trip durations. The dataset comprises approximately 1.4 million trips that occurred during the first half of 2016.<br>"
   ]
  },
  {
   "cell_type": "markdown",
   "id": "564301c6",
   "metadata": {
    "ExecuteTime": {
     "end_time": "2023-07-01T05:46:41.822793Z",
     "start_time": "2023-07-01T05:46:41.806579Z"
    }
   },
   "source": [
    "Features Description:\n",
    "1. id - a unique identifier for each trip\n",
    "2. vendor_id - a code indicating the provider associated with the trip record\n",
    "3. pickup_datetime - date and time when the meter was engaged\n",
    "4. dropoff_datetime - date and time when the meter was disengaged\n",
    "5. passenger_count - the number of passengers in the vehicle (driver entered value)\n",
    "6. pickup_longitude - the longitude where the meter was engaged\n",
    "7. pickup_latitude - the latitude where the meter was engaged\n",
    "8. dropoff_longitude - the longitude where the meter was disengaged\n",
    "9. dropoff_latitude - the latitude where the meter was disengaged\n",
    "10. store_and_fwd_flag - This flag indicates whether the trip record was held in vehicle memory before sending to the vendor because the vehicle did not have a connection to the server - Y=store and forward; N=not a store and forward trip\n",
    "11. trip_duration - duration of the trip in seconds\n",
    "***\n",
    "Split train & test set 70:30 :\n",
    "- train.csv - the training set (contains 1458644 trip records / 70%)\n",
    "- test.csv - the testing set (contains 625134 trip records / 30%)\n",
    "***\n",
    "Data source: kaggle.com/competitions/nyc-taxi-trip-duration <br>"
   ]
  },
  {
   "cell_type": "markdown",
   "id": "cef3266a",
   "metadata": {},
   "source": [
    "# Objective"
   ]
  },
  {
   "cell_type": "markdown",
   "id": "169336db",
   "metadata": {},
   "source": [
    "Predict NYC Yellow Cab duration for each trip "
   ]
  },
  {
   "cell_type": "markdown",
   "id": "f66a371c",
   "metadata": {},
   "source": [
    "# Data Understanding"
   ]
  },
  {
   "cell_type": "markdown",
   "id": "6d8b3e43",
   "metadata": {
    "ExecuteTime": {
     "end_time": "2023-07-01T05:32:57.708832Z",
     "start_time": "2023-07-01T05:32:57.701122Z"
    }
   },
   "source": [
    "## Load Dataset"
   ]
  },
  {
   "cell_type": "code",
   "execution_count": 43,
   "id": "68a9883c",
   "metadata": {
    "ExecuteTime": {
     "end_time": "2023-07-05T16:25:16.292648Z",
     "start_time": "2023-07-05T16:25:13.168980Z"
    }
   },
   "outputs": [
    {
     "data": {
      "text/plain": [
       "(1458644, 11)"
      ]
     },
     "execution_count": 43,
     "metadata": {},
     "output_type": "execute_result"
    }
   ],
   "source": [
    "file_path = 'Your Path/train.csv'\n",
    "\n",
    "df = pd.read_csv(file_path)\n",
    "df.shape"
   ]
  },
  {
   "cell_type": "code",
   "execution_count": 44,
   "id": "8a7a6234",
   "metadata": {
    "ExecuteTime": {
     "end_time": "2023-07-05T16:25:16.303593Z",
     "start_time": "2023-07-05T16:25:16.294283Z"
    }
   },
   "outputs": [
    {
     "data": {
      "text/html": [
       "<div>\n",
       "<style scoped>\n",
       "    .dataframe tbody tr th:only-of-type {\n",
       "        vertical-align: middle;\n",
       "    }\n",
       "\n",
       "    .dataframe tbody tr th {\n",
       "        vertical-align: top;\n",
       "    }\n",
       "\n",
       "    .dataframe thead th {\n",
       "        text-align: right;\n",
       "    }\n",
       "</style>\n",
       "<table border=\"1\" class=\"dataframe\">\n",
       "  <thead>\n",
       "    <tr style=\"text-align: right;\">\n",
       "      <th></th>\n",
       "      <th>0</th>\n",
       "    </tr>\n",
       "  </thead>\n",
       "  <tbody>\n",
       "    <tr>\n",
       "      <th>id</th>\n",
       "      <td>id2875421</td>\n",
       "    </tr>\n",
       "    <tr>\n",
       "      <th>vendor_id</th>\n",
       "      <td>2</td>\n",
       "    </tr>\n",
       "    <tr>\n",
       "      <th>pickup_datetime</th>\n",
       "      <td>2016-03-14 17:24:55</td>\n",
       "    </tr>\n",
       "    <tr>\n",
       "      <th>dropoff_datetime</th>\n",
       "      <td>2016-03-14 17:32:30</td>\n",
       "    </tr>\n",
       "    <tr>\n",
       "      <th>passenger_count</th>\n",
       "      <td>1</td>\n",
       "    </tr>\n",
       "    <tr>\n",
       "      <th>pickup_longitude</th>\n",
       "      <td>-73.982</td>\n",
       "    </tr>\n",
       "    <tr>\n",
       "      <th>pickup_latitude</th>\n",
       "      <td>40.768</td>\n",
       "    </tr>\n",
       "    <tr>\n",
       "      <th>dropoff_longitude</th>\n",
       "      <td>-73.965</td>\n",
       "    </tr>\n",
       "    <tr>\n",
       "      <th>dropoff_latitude</th>\n",
       "      <td>40.766</td>\n",
       "    </tr>\n",
       "    <tr>\n",
       "      <th>store_and_fwd_flag</th>\n",
       "      <td>N</td>\n",
       "    </tr>\n",
       "    <tr>\n",
       "      <th>trip_duration</th>\n",
       "      <td>455</td>\n",
       "    </tr>\n",
       "  </tbody>\n",
       "</table>\n",
       "</div>"
      ],
      "text/plain": [
       "                                      0\n",
       "id                            id2875421\n",
       "vendor_id                             2\n",
       "pickup_datetime     2016-03-14 17:24:55\n",
       "dropoff_datetime    2016-03-14 17:32:30\n",
       "passenger_count                       1\n",
       "pickup_longitude                -73.982\n",
       "pickup_latitude                  40.768\n",
       "dropoff_longitude               -73.965\n",
       "dropoff_latitude                 40.766\n",
       "store_and_fwd_flag                    N\n",
       "trip_duration                       455"
      ]
     },
     "execution_count": 44,
     "metadata": {},
     "output_type": "execute_result"
    }
   ],
   "source": [
    "df.head(1).T"
   ]
  },
  {
   "cell_type": "markdown",
   "id": "7c7a576d",
   "metadata": {},
   "source": [
    "## Data Information"
   ]
  },
  {
   "cell_type": "code",
   "execution_count": 45,
   "id": "372172d3",
   "metadata": {
    "ExecuteTime": {
     "end_time": "2023-07-05T16:25:16.940327Z",
     "start_time": "2023-07-05T16:25:16.304603Z"
    }
   },
   "outputs": [
    {
     "name": "stdout",
     "output_type": "stream",
     "text": [
      "<class 'pandas.core.frame.DataFrame'>\n",
      "RangeIndex: 1458644 entries, 0 to 1458643\n",
      "Data columns (total 11 columns):\n",
      " #   Column              Non-Null Count    Dtype  \n",
      "---  ------              --------------    -----  \n",
      " 0   id                  1458644 non-null  object \n",
      " 1   vendor_id           1458644 non-null  int64  \n",
      " 2   pickup_datetime     1458644 non-null  object \n",
      " 3   dropoff_datetime    1458644 non-null  object \n",
      " 4   passenger_count     1458644 non-null  int64  \n",
      " 5   pickup_longitude    1458644 non-null  float64\n",
      " 6   pickup_latitude     1458644 non-null  float64\n",
      " 7   dropoff_longitude   1458644 non-null  float64\n",
      " 8   dropoff_latitude    1458644 non-null  float64\n",
      " 9   store_and_fwd_flag  1458644 non-null  object \n",
      " 10  trip_duration       1458644 non-null  int64  \n",
      "dtypes: float64(4), int64(3), object(4)\n",
      "memory usage: 122.4+ MB\n"
     ]
    }
   ],
   "source": [
    "df.info(verbose=True)\n",
    "#df.info(verbose=True, memory_usage='deep')"
   ]
  },
  {
   "cell_type": "code",
   "execution_count": 46,
   "id": "c99011ea",
   "metadata": {
    "ExecuteTime": {
     "end_time": "2023-07-05T16:25:17.190827Z",
     "start_time": "2023-07-05T16:25:16.942134Z"
    }
   },
   "outputs": [
    {
     "data": {
      "text/html": [
       "<div>\n",
       "<style scoped>\n",
       "    .dataframe tbody tr th:only-of-type {\n",
       "        vertical-align: middle;\n",
       "    }\n",
       "\n",
       "    .dataframe tbody tr th {\n",
       "        vertical-align: top;\n",
       "    }\n",
       "\n",
       "    .dataframe thead th {\n",
       "        text-align: right;\n",
       "    }\n",
       "</style>\n",
       "<table border=\"1\" class=\"dataframe\">\n",
       "  <thead>\n",
       "    <tr style=\"text-align: right;\">\n",
       "      <th></th>\n",
       "      <th>vendor_id</th>\n",
       "      <th>passenger_count</th>\n",
       "      <th>pickup_longitude</th>\n",
       "      <th>pickup_latitude</th>\n",
       "      <th>dropoff_longitude</th>\n",
       "      <th>dropoff_latitude</th>\n",
       "      <th>trip_duration</th>\n",
       "    </tr>\n",
       "  </thead>\n",
       "  <tbody>\n",
       "    <tr>\n",
       "      <th>count</th>\n",
       "      <td>1458644.000</td>\n",
       "      <td>1458644.000</td>\n",
       "      <td>1458644.000</td>\n",
       "      <td>1458644.000</td>\n",
       "      <td>1458644.000</td>\n",
       "      <td>1458644.000</td>\n",
       "      <td>1458644.000</td>\n",
       "    </tr>\n",
       "    <tr>\n",
       "      <th>mean</th>\n",
       "      <td>1.535</td>\n",
       "      <td>1.665</td>\n",
       "      <td>-73.973</td>\n",
       "      <td>40.751</td>\n",
       "      <td>-73.973</td>\n",
       "      <td>40.752</td>\n",
       "      <td>959.492</td>\n",
       "    </tr>\n",
       "    <tr>\n",
       "      <th>std</th>\n",
       "      <td>0.499</td>\n",
       "      <td>1.314</td>\n",
       "      <td>0.071</td>\n",
       "      <td>0.033</td>\n",
       "      <td>0.071</td>\n",
       "      <td>0.036</td>\n",
       "      <td>5237.432</td>\n",
       "    </tr>\n",
       "    <tr>\n",
       "      <th>min</th>\n",
       "      <td>1.000</td>\n",
       "      <td>0.000</td>\n",
       "      <td>-121.933</td>\n",
       "      <td>34.360</td>\n",
       "      <td>-121.933</td>\n",
       "      <td>32.181</td>\n",
       "      <td>1.000</td>\n",
       "    </tr>\n",
       "    <tr>\n",
       "      <th>25%</th>\n",
       "      <td>1.000</td>\n",
       "      <td>1.000</td>\n",
       "      <td>-73.992</td>\n",
       "      <td>40.737</td>\n",
       "      <td>-73.991</td>\n",
       "      <td>40.736</td>\n",
       "      <td>397.000</td>\n",
       "    </tr>\n",
       "    <tr>\n",
       "      <th>50%</th>\n",
       "      <td>2.000</td>\n",
       "      <td>1.000</td>\n",
       "      <td>-73.982</td>\n",
       "      <td>40.754</td>\n",
       "      <td>-73.980</td>\n",
       "      <td>40.755</td>\n",
       "      <td>662.000</td>\n",
       "    </tr>\n",
       "    <tr>\n",
       "      <th>75%</th>\n",
       "      <td>2.000</td>\n",
       "      <td>2.000</td>\n",
       "      <td>-73.967</td>\n",
       "      <td>40.768</td>\n",
       "      <td>-73.963</td>\n",
       "      <td>40.770</td>\n",
       "      <td>1075.000</td>\n",
       "    </tr>\n",
       "    <tr>\n",
       "      <th>max</th>\n",
       "      <td>2.000</td>\n",
       "      <td>9.000</td>\n",
       "      <td>-61.336</td>\n",
       "      <td>51.881</td>\n",
       "      <td>-61.336</td>\n",
       "      <td>43.921</td>\n",
       "      <td>3526282.000</td>\n",
       "    </tr>\n",
       "  </tbody>\n",
       "</table>\n",
       "</div>"
      ],
      "text/plain": [
       "        vendor_id  passenger_count  pickup_longitude  pickup_latitude  \\\n",
       "count 1458644.000      1458644.000       1458644.000      1458644.000   \n",
       "mean        1.535            1.665           -73.973           40.751   \n",
       "std         0.499            1.314             0.071            0.033   \n",
       "min         1.000            0.000          -121.933           34.360   \n",
       "25%         1.000            1.000           -73.992           40.737   \n",
       "50%         2.000            1.000           -73.982           40.754   \n",
       "75%         2.000            2.000           -73.967           40.768   \n",
       "max         2.000            9.000           -61.336           51.881   \n",
       "\n",
       "       dropoff_longitude  dropoff_latitude  trip_duration  \n",
       "count        1458644.000       1458644.000    1458644.000  \n",
       "mean             -73.973            40.752        959.492  \n",
       "std                0.071             0.036       5237.432  \n",
       "min             -121.933            32.181          1.000  \n",
       "25%              -73.991            40.736        397.000  \n",
       "50%              -73.980            40.755        662.000  \n",
       "75%              -73.963            40.770       1075.000  \n",
       "max              -61.336            43.921    3526282.000  "
      ]
     },
     "execution_count": 46,
     "metadata": {},
     "output_type": "execute_result"
    }
   ],
   "source": [
    "pd.set_option('display.float_format', lambda x: '%.3f' % x)\n",
    "df.describe()"
   ]
  },
  {
   "cell_type": "markdown",
   "id": "cdc209e8",
   "metadata": {},
   "source": [
    "## Target Distribution"
   ]
  },
  {
   "cell_type": "code",
   "execution_count": 47,
   "id": "91f8a662",
   "metadata": {
    "ExecuteTime": {
     "end_time": "2023-07-05T16:25:17.383262Z",
     "start_time": "2023-07-05T16:25:17.191841Z"
    }
   },
   "outputs": [
    {
     "data": {
      "image/png": "[encoded data removed]",
      "text/plain": [
       "<Figure size 640x480 with 1 Axes>"
      ]
     },
     "metadata": {},
     "output_type": "display_data"
    }
   ],
   "source": [
    "# Create a box plot\n",
    "sns.boxplot(data=df, y='trip_duration')\n",
    "\n",
    "# Set the plot title and labels\n",
    "plt.title('Box Plot of Trip Duration')\n",
    "plt.ylabel('Trip Duration')\n",
    "\n",
    "# Display the plot\n",
    "plt.show()"
   ]
  },
  {
   "cell_type": "code",
   "execution_count": 48,
   "id": "eabac8e8",
   "metadata": {
    "ExecuteTime": {
     "end_time": "2023-07-05T16:25:17.724006Z",
     "start_time": "2023-07-05T16:25:17.384263Z"
    }
   },
   "outputs": [
    {
     "data": {
      "image/png": "[encoded data removed]",
      "text/plain": [
       "<Figure size 640x480 with 1 Axes>"
      ]
     },
     "metadata": {},
     "output_type": "display_data"
    }
   ],
   "source": [
    "# Calculate the interquartile range (IQR)\n",
    "Q1 = df['trip_duration'].quantile(0.25)\n",
    "Q3 = df['trip_duration'].quantile(0.75)\n",
    "IQR = Q3 - Q1\n",
    "\n",
    "# Define the upper and lower bounds for outlier detection\n",
    "lower_bound = Q1 - 1.5 * IQR\n",
    "upper_bound = Q3 + 1.5 * IQR\n",
    "\n",
    "# Filter out the outliers\n",
    "filtered_df = df[(df['trip_duration'] >= lower_bound) & (df['trip_duration'] <= upper_bound)]\n",
    "\n",
    "# Create a box plot without outliers\n",
    "sns.boxplot(data=filtered_df, y='trip_duration')\n",
    "\n",
    "# Set the plot title and labels\n",
    "plt.title('Box Plot of Trip Duration (Without Outliers)')\n",
    "plt.ylabel('Trip Duration')\n",
    "\n",
    "# Display the plot\n",
    "plt.show()"
   ]
  },
  {
   "cell_type": "markdown",
   "id": "c18fcda4",
   "metadata": {},
   "source": [
    "It seems the target has extreme outliers which around 2,000-80,000 minutes. It means taxi driver is impossible to deliver passenger for more than 1+ day (2000 minutes)."
   ]
  },
  {
   "cell_type": "code",
   "execution_count": 49,
   "id": "86768bc6",
   "metadata": {
    "ExecuteTime": {
     "end_time": "2023-07-05T16:25:17.732495Z",
     "start_time": "2023-07-05T16:25:17.725485Z"
    }
   },
   "outputs": [
    {
     "name": "stdout",
     "output_type": "stream",
     "text": [
      "Number of outliers: 74220\n",
      "Percentage of outliers: 5.09%\n"
     ]
    }
   ],
   "source": [
    "# Count the number of outliers\n",
    "outliers_count = ((df['trip_duration'] < lower_bound) | (df['trip_duration'] > upper_bound)).sum()\n",
    "all_count = df['trip_duration'].count()\n",
    "perc_outlier = outliers_count/all_count*100\n",
    "\n",
    "# Print the count of outliers\n",
    "print(\"Number of outliers:\", outliers_count)\n",
    "print(f\"Percentage of outliers: {perc_outlier:.2f}%\")"
   ]
  },
  {
   "cell_type": "code",
   "execution_count": 50,
   "id": "cdf02d0a",
   "metadata": {
    "ExecuteTime": {
     "end_time": "2023-07-05T16:25:17.905775Z",
     "start_time": "2023-07-05T16:25:17.733561Z"
    }
   },
   "outputs": [
    {
     "data": {
      "image/png": "[encoded data removed]",
      "text/plain": [
       "<Figure size 1500x600 with 1 Axes>"
      ]
     },
     "metadata": {},
     "output_type": "display_data"
    }
   ],
   "source": [
    "plt.figure(figsize=(15,6))\n",
    "plt.hist(df['trip_duration'].values, bins=100)\n",
    "plt.xlabel('trip_duration')\n",
    "plt.ylabel('number of train records')\n",
    "plt.show()"
   ]
  },
  {
   "cell_type": "markdown",
   "id": "eea7b4b2",
   "metadata": {},
   "source": [
    "## Feature vs Target Correlation"
   ]
  },
  {
   "cell_type": "code",
   "execution_count": 51,
   "id": "fd34c6bb",
   "metadata": {
    "ExecuteTime": {
     "end_time": "2023-07-05T16:25:18.174845Z",
     "start_time": "2023-07-05T16:25:17.907012Z"
    }
   },
   "outputs": [
    {
     "data": {
      "image/png": "[encoded data removed]",
      "text/plain": [
       "<Figure size 640x480 with 1 Axes>"
      ]
     },
     "metadata": {},
     "output_type": "display_data"
    }
   ],
   "source": [
    "df.corr(method='pearson')['trip_duration'].plot(kind='barh')\n",
    "\n",
    "# Set the plot title and labels\n",
    "plt.title('Pearson Correlation with Trip Duration')\n",
    "plt.xlabel('Pearson Correlation Coefficient')\n",
    "plt.ylabel('Features')\n",
    "\n",
    "# Display the plot\n",
    "plt.show()"
   ]
  },
  {
   "cell_type": "markdown",
   "id": "7c349d0e",
   "metadata": {},
   "source": [
    "# Data Preparation"
   ]
  },
  {
   "cell_type": "markdown",
   "id": "6008d982",
   "metadata": {},
   "source": [
    "## Drop Unused Feature"
   ]
  },
  {
   "cell_type": "code",
   "execution_count": 52,
   "id": "9781fbf8",
   "metadata": {
    "ExecuteTime": {
     "end_time": "2023-07-05T16:25:18.224326Z",
     "start_time": "2023-07-05T16:25:18.177712Z"
    }
   },
   "outputs": [],
   "source": [
    "df_temp = df.copy()"
   ]
  },
  {
   "cell_type": "code",
   "execution_count": 53,
   "id": "654f93e2",
   "metadata": {
    "ExecuteTime": {
     "end_time": "2023-07-05T16:25:18.227584Z",
     "start_time": "2023-07-05T16:25:18.225338Z"
    }
   },
   "outputs": [],
   "source": [
    "def drop_feature(df_temp):\n",
    "    df_temp = df_temp.drop(['id','vendor_id'], axis=1)\n",
    "    return df_temp"
   ]
  },
  {
   "cell_type": "markdown",
   "id": "8764f5c9",
   "metadata": {
    "ExecuteTime": {
     "end_time": "2023-07-01T15:12:55.572632Z",
     "start_time": "2023-07-01T15:12:55.562036Z"
    }
   },
   "source": [
    "## Duplicate & Missing Value"
   ]
  },
  {
   "cell_type": "code",
   "execution_count": 54,
   "id": "a253619e",
   "metadata": {
    "ExecuteTime": {
     "end_time": "2023-07-05T16:25:18.230864Z",
     "start_time": "2023-07-05T16:25:18.228621Z"
    }
   },
   "outputs": [],
   "source": [
    "def simple_preprocessing(df_temp):\n",
    "    df_temp = df_temp.drop_duplicates()\n",
    "    df_temp = df_temp.dropna().reset_index(drop=True)\n",
    "\n",
    "    return df_temp"
   ]
  },
  {
   "cell_type": "markdown",
   "id": "a0feb4f9",
   "metadata": {
    "ExecuteTime": {
     "end_time": "2023-07-01T15:26:20.876533Z",
     "start_time": "2023-07-01T15:26:20.866340Z"
    }
   },
   "source": [
    "## Build Modeling Function"
   ]
  },
  {
   "cell_type": "markdown",
   "id": "3658f56a",
   "metadata": {},
   "source": [
    "## Fixing Date Format"
   ]
  },
  {
   "cell_type": "code",
   "execution_count": 55,
   "id": "084ecf27",
   "metadata": {
    "ExecuteTime": {
     "end_time": "2023-07-05T16:25:25.714957Z",
     "start_time": "2023-07-05T16:25:18.232419Z"
    }
   },
   "outputs": [],
   "source": [
    "df_temp['pickup_datetime'] = df_temp['pickup_datetime'].apply(pd.Timestamp)\n",
    "df_temp['dropoff_datetime'] = df_temp['dropoff_datetime'].apply(pd.Timestamp)"
   ]
  },
  {
   "cell_type": "markdown",
   "id": "9a4a8721",
   "metadata": {},
   "source": [
    "## Apply Log Transformation to Target"
   ]
  },
  {
   "cell_type": "code",
   "execution_count": 56,
   "id": "6c286fd1",
   "metadata": {
    "ExecuteTime": {
     "end_time": "2023-07-05T16:25:25.752101Z",
     "start_time": "2023-07-05T16:25:25.721428Z"
    }
   },
   "outputs": [],
   "source": [
    "df_temp['trip_duration'] = np.log(df_temp['trip_duration'].values + 1)"
   ]
  },
  {
   "cell_type": "markdown",
   "id": "c4aa1d8f",
   "metadata": {},
   "source": [
    "## Label Encoding (store_and_fwd_flag)"
   ]
  },
  {
   "cell_type": "code",
   "execution_count": 57,
   "id": "eb094588",
   "metadata": {
    "ExecuteTime": {
     "end_time": "2023-07-05T16:25:25.855543Z",
     "start_time": "2023-07-05T16:25:25.753558Z"
    }
   },
   "outputs": [],
   "source": [
    "df_temp['store_and_fwd_flag'] = df_temp['store_and_fwd_flag'].astype('category').cat.codes"
   ]
  },
  {
   "cell_type": "markdown",
   "id": "0b3bec28",
   "metadata": {},
   "source": [
    "## Trip_duration Cleaning"
   ]
  },
  {
   "cell_type": "markdown",
   "id": "834ca3c7",
   "metadata": {},
   "source": [
    "As mentioned before, the target has extreme outliers which around 2,000-80,000 minutes. It means taxi driver is impossible to deliver passenger for more than 1+ day (2000 minutes). Hence I need to clean these."
   ]
  },
  {
   "cell_type": "code",
   "execution_count": 58,
   "id": "912ec894",
   "metadata": {
    "ExecuteTime": {
     "end_time": "2023-07-05T16:25:25.895034Z",
     "start_time": "2023-07-05T16:25:25.856724Z"
    }
   },
   "outputs": [
    {
     "data": {
      "text/plain": [
       "8.472836343877669"
      ]
     },
     "execution_count": 58,
     "metadata": {},
     "output_type": "execute_result"
    }
   ],
   "source": [
    "# Calculate the interquartile range (IQR)\n",
    "Q1 = df_temp['trip_duration'].quantile(0.25)\n",
    "Q3 = df_temp['trip_duration'].quantile(0.75)\n",
    "IQR = Q3 - Q1\n",
    "\n",
    "# Define the upper and lower bounds for outlier detection\n",
    "upper_bound = Q3 + 1.5 * IQR\n",
    "upper_bound"
   ]
  },
  {
   "cell_type": "markdown",
   "id": "f2c6af06",
   "metadata": {},
   "source": [
    "I choose rounding to 1 days (2096 minutes) as upper bound."
   ]
  },
  {
   "cell_type": "code",
   "execution_count": 59,
   "id": "f30286eb",
   "metadata": {
    "ExecuteTime": {
     "end_time": "2023-07-05T16:25:26.250264Z",
     "start_time": "2023-07-05T16:25:25.896229Z"
    }
   },
   "outputs": [],
   "source": [
    "df_temp = df_temp[df_temp['trip_duration'] <= 2096]"
   ]
  },
  {
   "cell_type": "markdown",
   "id": "dac08273",
   "metadata": {},
   "source": [
    "## Cleaning Pickup_longitude & Pickup_latitude"
   ]
  },
  {
   "cell_type": "markdown",
   "id": "aad187ee",
   "metadata": {},
   "source": [
    "It seems the dropoff has wider scope than pickup. To provide the model with a more concise pattern, I have chosen to focus solely on New York City. Therefore I need find approach method by seeing in the google maps."
   ]
  },
  {
   "cell_type": "code",
   "execution_count": 60,
   "id": "b8607849",
   "metadata": {
    "ExecuteTime": {
     "end_time": "2023-07-05T16:25:26.525537Z",
     "start_time": "2023-07-05T16:25:26.251334Z"
    }
   },
   "outputs": [],
   "source": [
    "df_temp = df_temp[df_temp['pickup_longitude'] <= -73.75]\n",
    "df_temp = df_temp[df_temp['pickup_longitude'] >= -74.03]\n",
    "df_temp = df_temp[df_temp['pickup_latitude'] <= 40.85]\n",
    "df_temp = df_temp[df_temp['pickup_latitude'] >= 40.63]\n",
    "df_temp = df_temp[df_temp['dropoff_longitude'] <= -73.75]\n",
    "df_temp = df_temp[df_temp['dropoff_longitude'] >= -74.03]\n",
    "df_temp = df_temp[df_temp['dropoff_latitude'] <= 40.85]\n",
    "df_temp = df_temp[df_temp['dropoff_latitude'] >= 40.63]"
   ]
  },
  {
   "cell_type": "markdown",
   "id": "da231cd2",
   "metadata": {},
   "source": [
    "## Feature extract Hour, Day, Week, Month"
   ]
  },
  {
   "cell_type": "code",
   "execution_count": 61,
   "id": "b3e07528",
   "metadata": {
    "ExecuteTime": {
     "end_time": "2023-07-05T16:25:26.538551Z",
     "start_time": "2023-07-05T16:25:26.526748Z"
    }
   },
   "outputs": [],
   "source": [
    "df_temp['pickup_datetime'] = pd.to_datetime(df_temp['pickup_datetime'])"
   ]
  },
  {
   "cell_type": "code",
   "execution_count": 62,
   "id": "f3edd9e0",
   "metadata": {
    "ExecuteTime": {
     "end_time": "2023-07-05T16:25:26.766170Z",
     "start_time": "2023-07-05T16:25:26.539685Z"
    }
   },
   "outputs": [],
   "source": [
    "# Extracting Datetime to Hour\n",
    "df_temp['Hour'] = df_temp['pickup_datetime'].dt.hour\n",
    "\n",
    "# Extracting Datetime to Day\n",
    "df_temp['Day'] = df_temp['pickup_datetime'].dt.day\n",
    "\n",
    "# Extracting Datetime to Week\n",
    "df_temp['Week'] = df_temp['pickup_datetime'].dt.dayofweek\n",
    "\n",
    "# Extracting Datetime to Month\n",
    "df_temp['Month'] = df_temp['pickup_datetime'].dt.month"
   ]
  },
  {
   "cell_type": "markdown",
   "id": "b21e329c",
   "metadata": {},
   "source": [
    "## Feature Extract Distance & Average Speed"
   ]
  },
  {
   "cell_type": "markdown",
   "id": "38fe3dbe",
   "metadata": {},
   "source": [
    "Wikipedia said: A globally-average value is usually believed to be 6,371.0088 kilometres (3,959 mi) with a 0.3% variability (±10 km) for the following reasons.\n",
    "Source: https://simple.wikipedia.org/wiki/Earth_radius"
   ]
  },
  {
   "cell_type": "code",
   "execution_count": 63,
   "id": "9731e079",
   "metadata": {
    "ExecuteTime": {
     "end_time": "2023-07-05T16:25:26.865058Z",
     "start_time": "2023-07-05T16:25:26.767474Z"
    }
   },
   "outputs": [],
   "source": [
    "def haversine(lat1, long1, lat2, long2):\n",
    "    lat1_rad, long1_rad, lat2_rad, long2_rad = np.radians([lat1, long1, lat2, long2])\n",
    "    average_earth_rad = 6371\n",
    "    lat_diff = lat2_rad - lat1_rad\n",
    "    long_diff = long2_rad - long1_rad\n",
    "    haversine = 2 * average_earth_rad * np.arcsin(np.sqrt(\n",
    "                                                        np.sin(lat_diff * 0.5) ** 2\n",
    "                                                        + np.cos(lat1_rad) * np.cos(lat2_rad)\n",
    "                                                        * np.sin(long_diff * 0.5) ** 2))\n",
    "    return haversine\n",
    "\n",
    "df_temp['distance_haversine'] = haversine(df_temp['pickup_latitude'].values,\n",
    "                                                     df_temp['pickup_longitude'].values,\n",
    "                                                     df_temp['dropoff_latitude'].values,\n",
    "                                                     df_temp['dropoff_longitude'].values)"
   ]
  },
  {
   "cell_type": "code",
   "execution_count": 64,
   "id": "dbb5287d",
   "metadata": {
    "ExecuteTime": {
     "end_time": "2023-07-05T16:25:26.871039Z",
     "start_time": "2023-07-05T16:25:26.866033Z"
    }
   },
   "outputs": [],
   "source": [
    "df_temp['avg_speed'] = 1000 * df_temp['distance_haversine'] / df_temp['trip_duration']"
   ]
  },
  {
   "cell_type": "markdown",
   "id": "dae2463c",
   "metadata": {},
   "source": [
    "## Scaling"
   ]
  },
  {
   "cell_type": "code",
   "execution_count": 65,
   "id": "cb35a4de",
   "metadata": {
    "ExecuteTime": {
     "end_time": "2023-07-05T16:25:26.880379Z",
     "start_time": "2023-07-05T16:25:26.872145Z"
    }
   },
   "outputs": [
    {
     "data": {
      "text/plain": [
       "(1439183, 14)"
      ]
     },
     "execution_count": 65,
     "metadata": {},
     "output_type": "execute_result"
    }
   ],
   "source": [
    "df_temp = df_temp.select_dtypes(include=np.number)\n",
    "df_temp.shape"
   ]
  },
  {
   "cell_type": "code",
   "execution_count": 66,
   "id": "f934a8ce",
   "metadata": {
    "ExecuteTime": {
     "end_time": "2023-07-05T16:25:27.294481Z",
     "start_time": "2023-07-05T16:25:26.881634Z"
    }
   },
   "outputs": [
    {
     "name": "stdout",
     "output_type": "stream",
     "text": [
      "(1439183, 13)\n",
      "(1439183, 1)\n"
     ]
    }
   ],
   "source": [
    "X = df_temp.drop('trip_duration', axis=1)\n",
    "y = df_temp[['trip_duration']]\n",
    "\n",
    "scaler = StandardScaler()\n",
    "scaler.fit(X)\n",
    "X_std = scaler.transform(X)\n",
    "\n",
    "print(X_std.shape)\n",
    "print(y.shape)"
   ]
  },
  {
   "cell_type": "markdown",
   "id": "a2d66c94",
   "metadata": {},
   "source": [
    "## Split Train and Test"
   ]
  },
  {
   "cell_type": "code",
   "execution_count": 67,
   "id": "864c5acf",
   "metadata": {
    "ExecuteTime": {
     "end_time": "2023-07-05T16:25:27.715810Z",
     "start_time": "2023-07-05T16:25:27.295529Z"
    }
   },
   "outputs": [],
   "source": [
    "X_train, X_test, y_train, y_test = train_test_split(X_std, y, test_size=0.3, random_state=33)"
   ]
  },
  {
   "cell_type": "markdown",
   "id": "59d38893",
   "metadata": {},
   "source": [
    "# Features Correlation"
   ]
  },
  {
   "cell_type": "code",
   "execution_count": 68,
   "id": "e646cdfd",
   "metadata": {
    "ExecuteTime": {
     "end_time": "2023-07-05T16:25:28.445382Z",
     "start_time": "2023-07-05T16:25:27.716832Z"
    }
   },
   "outputs": [
    {
     "data": {
      "image/png": "[encoded data removed]",
      "text/plain": [
       "<Figure size 640x480 with 1 Axes>"
      ]
     },
     "metadata": {},
     "output_type": "display_data"
    }
   ],
   "source": [
    "df_temp.corr(method='pearson')['trip_duration'].plot(kind='barh')\n",
    "\n",
    "# Set the plot title and labels\n",
    "plt.title('Pearson Correlation with Trip Duration')\n",
    "plt.xlabel('Pearson Correlation Coefficient')\n",
    "plt.ylabel('Features')\n",
    "\n",
    "# Display the plot\n",
    "plt.show()"
   ]
  },
  {
   "cell_type": "markdown",
   "id": "e25fdc56",
   "metadata": {},
   "source": [
    "# Modeling"
   ]
  },
  {
   "cell_type": "code",
   "execution_count": 69,
   "id": "74c687d3",
   "metadata": {
    "ExecuteTime": {
     "end_time": "2023-07-05T16:25:31.649589Z",
     "start_time": "2023-07-05T16:25:28.446470Z"
    }
   },
   "outputs": [],
   "source": [
    "model = lgb.LGBMRegressor(verbose=-1)\n",
    "\n",
    "model.fit(X_train, y_train.values.ravel())\n",
    "\n",
    "# Predict the labels of the test set\n",
    "y_pred_test = model.predict(X_test)"
   ]
  },
  {
   "cell_type": "markdown",
   "id": "0c29c743",
   "metadata": {},
   "source": [
    "# Evaluation"
   ]
  },
  {
   "cell_type": "code",
   "execution_count": 70,
   "id": "7e5d2597",
   "metadata": {
    "ExecuteTime": {
     "end_time": "2023-07-05T16:25:39.401033Z",
     "start_time": "2023-07-05T16:25:31.659313Z"
    }
   },
   "outputs": [],
   "source": [
    "# Calculate evaluation metrics for the training set\n",
    "r2_train = r2_score(y_train, model.predict(X_train))\n",
    "mae_train = mean_absolute_error(y_train, model.predict(X_train))\n",
    "mse_train = mean_squared_error(y_train, model.predict(X_train))\n",
    "rmse_train = np.sqrt(mean_squared_error(y_train, model.predict(X_train)))\n",
    "\n",
    "# Calculate evaluation metrics for the test set\n",
    "r2_test = r2_score(y_test, y_pred_test)\n",
    "mae_test = mean_absolute_error(y_test, y_pred_test)\n",
    "mse_test = mean_squared_error(y_test, y_pred_test)\n",
    "rmse_test = np.sqrt(mean_squared_error(y_test, y_pred_test))"
   ]
  },
  {
   "cell_type": "code",
   "execution_count": 71,
   "id": "ed91b05b",
   "metadata": {
    "ExecuteTime": {
     "end_time": "2023-07-05T16:25:39.405882Z",
     "start_time": "2023-07-05T16:25:39.402540Z"
    }
   },
   "outputs": [
    {
     "name": "stdout",
     "output_type": "stream",
     "text": [
      "Training set:\n",
      "R^2: 0.933\n",
      "MAE: 0.093\n",
      "MSE: 0.042\n",
      "RMSE: 0.204\n",
      "\n",
      "Test set:\n",
      "R^2: 0.932\n",
      "MAE: 0.093\n",
      "MSE: 0.042\n",
      "RMSE: 0.205\n"
     ]
    }
   ],
   "source": [
    "# Print the evaluation metrics for both training and test sets\n",
    "print(\"Training set:\")\n",
    "print(f\"R^2: {r2_train:.3f}\")\n",
    "print(f\"MAE: {mae_train:.3f}\")\n",
    "print(f\"MSE: {mse_train:.3f}\")\n",
    "print(f\"RMSE: {rmse_train:.3f}\")\n",
    "print(\"\\nTest set:\")\n",
    "print(f\"R^2: {r2_test:.3f}\")\n",
    "print(f\"MAE: {mae_test:.3f}\")\n",
    "print(f\"MSE: {mse_test:.3f}\")\n",
    "print(f\"RMSE: {rmse_test:.3f}\")"
   ]
  },
  {
   "cell_type": "markdown",
   "id": "10c725ac",
   "metadata": {},
   "source": [
    "# Cross Validation"
   ]
  },
  {
   "cell_type": "markdown",
   "id": "22192744",
   "metadata": {},
   "source": [
    "References for below:  <br>\n",
    "[1] K. Banachewicz, L. Massaron (2022). The Kaggle Book. Packt <br>\n",
    "[2] LightGBM (2023). Parameters (accessed March 3rd, 2023) <br>\n",
    "    https://lightgbm.readthedocs.io/en/latest/Parameters.html <br>\n",
    "[3] LightGBM (2023). Parameters Tuning (accessed March 3rd, 2023) <br>\n",
    "    https://lightgbm.readthedocs.io/en/latest/Parameters-Tuning.html <br>\n",
    "[4] M. Morohashi (2022). Kaggleで磨く機械学習の実践力. <br>\n",
    "[5] Bex T. (2021). Kaggler’s Guide to LightGBM Hyperparameter Tuning with Optuna in 2021 (accessed March 3rd, 2023)<br>\n",
    "    https://towardsdatascience.com/kagglers-guide-to-lightgbm-hyperparameter-tuning-with-optuna-in-2021-ed048d9838b5 <br>\n",
    "[6] Neptune.ai (accessed July 4th, 2023) <br>\n",
    "https://neptune.ai/blog/lightgbm-parameters-guide <br>\n",
    "[7] AWS Amazon SageMaker. Developer Guide (accessed July 4th, 2023) <br>\n",
    "https://docs.aws.amazon.com/sagemaker/latest/dg/lightgbm-hyperparameters.html"
   ]
  },
  {
   "cell_type": "markdown",
   "id": "cff66284",
   "metadata": {},
   "source": [
    "**Deal with Over-fitting [3]**\n",
    "\n",
    "* Use small max_bin\n",
    "* Use small num_leaves\n",
    "* Use min_data_in_leaf and min_sum_hessian_in_leaf\n",
    "* Use bagging by set bagging_fraction and bagging_freq\n",
    "* Use feature sub-sampling by set feature_fraction\n",
    "* Use bigger training data\n",
    "* Try lambda_l1, lambda_l2 and min_gain_to_split for regularization\n",
    "* Try max_depth to avoid growing deep tree <br>"
   ]
  },
  {
   "cell_type": "markdown",
   "id": "9ab06f2f",
   "metadata": {},
   "source": [
    "**For Better Accuracy [3]**\n",
    "* Use large max_bin (may be slower)\n",
    "* Use small learning_rate with large num_iterations\n",
    "* Use large num_leaves (may cause over-fitting)\n",
    "* Use bigger training data\n",
    "* Try dart"
   ]
  },
  {
   "cell_type": "markdown",
   "id": "5eb13239",
   "metadata": {},
   "source": [
    "Hyperparameter Introduction: https://towardsdatascience.com/beginners-guide-to-the-must-know-lightgbm-hyperparameters-a0005a812702"
   ]
  },
  {
   "cell_type": "markdown",
   "id": "85012d9e",
   "metadata": {},
   "source": [
    "***"
   ]
  },
  {
   "cell_type": "markdown",
   "id": "d6953b11",
   "metadata": {},
   "source": [
    "**To Get Good Result using a leaf-wise tree**"
   ]
  },
  {
   "cell_type": "markdown",
   "id": "f2ad26ff",
   "metadata": {},
   "source": [
    "1. Num_leaves and max_depth (Tree Shape)"
   ]
  },
  {
   "cell_type": "markdown",
   "id": "9036098e",
   "metadata": {},
   "source": [
    "The parameter max_depth controls the maximum depth for the tree model [2].\n",
    "\n",
    "* Default: -1 (no limit)\n",
    "* Good starting point for baseline: Default\n",
    "* Tuning range: (3, 16)"
   ]
  },
  {
   "cell_type": "markdown",
   "id": "b21f9f72",
   "metadata": {},
   "source": [
    "The parameter num_leaves controls the maximum number of leaves in one tree [2].\n",
    "\n",
    "* Default: 31\n",
    "* Good starting point for baseline: 16\n",
    "* Tuning range: (8, 256) with num_leaves < 2^(max_depth) [3]"
   ]
  },
  {
   "cell_type": "markdown",
   "id": "28d928a9",
   "metadata": {},
   "source": [
    "Hints: This is the main parameter to control the complexity of the tree model. Theoretically, we can set num_leaves = 2^(max_depth) to obtain the same number of leaves as depth-wise tree. However, this simple conversion is not good in practice. The reason is that a leaf-wise tree is typically much deeper than a depth-wise tree for a fixed number of leaves. Unconstrained depth can induce over-fitting. Thus, when trying to tune the num_leaves, we should let it be smaller than 2^(max_depth). For example, when the max_depth=7 the depth-wise tree can get good accuracy, but setting num_leaves to 127 may cause over-fitting, and setting it to 70 or 80 may get better accuracy than depth-wise. [3]"
   ]
  },
  {
   "cell_type": "markdown",
   "id": "9bcf8912",
   "metadata": {},
   "source": [
    "The smaller the trees (small num_leaves and max_depth), the faster the training speed — but this can also decrease accuracy [3].<br>\n",
    "Pay attention If you use a large value of max_depth, your model will likely be over fit  to the train set.<br>\n",
    "Since num_leaves impacts the tree growth in LGBM more than max_depth [5], Morohashi [4] doesn’t necessarily recommend tuning this parameter and to deviate from the default value."
   ]
  },
  {
   "cell_type": "markdown",
   "id": "00cb047d",
   "metadata": {},
   "source": [
    "2. min_data_in_leaf & min_gain_to_split (Tree Growth)"
   ]
  },
  {
   "cell_type": "markdown",
   "id": "0c323ac1",
   "metadata": {},
   "source": [
    "The parameter min_data_in_leaf specifies the minimum number of data points in one leaf [2]. If this parameter is too small, the model will overfit to the training data [2].\n",
    "* Default: 20\n",
    "* Good starting point for baseline: Default\n",
    "* Tuning range: (5, 300) but depends on the size of the dataset. Hundreds are enough for a large dataset [3]. As a rule of thumb: The larger the dataset, the larger min_data_in_leaf."
   ]
  },
  {
   "cell_type": "markdown",
   "id": "df95e082",
   "metadata": {},
   "source": [
    "The parameter min_gain_to_split specifies the minimum gain a leaf has to have to perform a split [2].\n",
    "\n",
    "* Default: 0\n",
    "* Good starting point for baseline: Default\n",
    "* Tuning range: (0, 15)"
   ]
  },
  {
   "cell_type": "markdown",
   "id": "eaa21b36",
   "metadata": {},
   "source": [
    "If you limit tree growth by increasing the parameter min_gain_to_split, the resulting smaller trees will lead to a faster training time — but this can also decrease accuracy [3]."
   ]
  },
  {
   "cell_type": "markdown",
   "id": "ccb88fc1",
   "metadata": {},
   "source": [
    "Hint: This is a very important parameter to prevent over-fitting in a leaf-wise tree. Its optimal value depends on the number of training samples and num_leaves. Setting it to a large value can avoid growing too deep a tree, but may cause under-fitting. In practice, setting it to hundreds or thousands is enough for a large dataset. (How many large?) [3]"
   ]
  },
  {
   "cell_type": "markdown",
   "id": "e873624a",
   "metadata": {
    "ExecuteTime": {
     "end_time": "2023-07-04T15:52:12.265630Z",
     "start_time": "2023-07-04T15:52:12.260252Z"
    }
   },
   "source": [
    "***"
   ]
  },
  {
   "cell_type": "markdown",
   "id": "040f9e64",
   "metadata": {
    "ExecuteTime": {
     "end_time": "2023-07-04T15:50:58.836998Z",
     "start_time": "2023-07-04T15:50:58.825520Z"
    }
   },
   "source": [
    "**Data Sampling**"
   ]
  },
  {
   "cell_type": "markdown",
   "id": "4b1a201d",
   "metadata": {},
   "source": [
    "3. Bagging (rows sampling)<br>\n",
    "At every bagging_freq-th iteration, LGBM will randomly select bagging_fraction * 100 % of the data to use for the next bagging_freq iterations [2]. E.g., if bagging_fraction = 0.8 and bagging_freq = 2, LGBM will sample 80 % of the training data every second iteration before training each tree. <br>\n",
    "\n",
    "This technique can be used to speed up training [2].\n",
    "\n",
    "* Default: bagging_fraction = 1.0 and bagging_freq = 0 (disabled)\n",
    "* Good starting point for baseline: bagging_fraction = 0.9 and bagging_freq = 1\n",
    "* Tuning range: bagging_fraction (0.5, 1)"
   ]
  },
  {
   "cell_type": "markdown",
   "id": "859417c5",
   "metadata": {},
   "source": [
    "4. Sub-feature sampling (columns sampling) <br>\n",
    "Feature fraction or sub-feature deals with column sampling, LightGBM will randomly select a subset of features on each iteration (tree).[6] <br>\n",
    "At every iteration, LGBM will randomly select feature_fraction * 100 % of the data [2]. <br>\n",
    "E.g., if feature_fraction = 0.8, LGBM will sample 80 % of the features before training each tree.\n",
    "\n",
    "* Default: 1\n",
    "* Good starting point for baseline: 0.9\n",
    "* Tuning range: (0.5, 1)"
   ]
  },
  {
   "cell_type": "markdown",
   "id": "fe997293",
   "metadata": {},
   "source": [
    "While sub-feature sampling can also be used to speed up training like bagging [2], it can help if there is multicollinearity present in the features [1]."
   ]
  },
  {
   "cell_type": "markdown",
   "id": "d3ccf32e",
   "metadata": {
    "ExecuteTime": {
     "end_time": "2023-07-04T16:00:24.231914Z",
     "start_time": "2023-07-04T16:00:24.224184Z"
    }
   },
   "source": [
    "**Regularization**"
   ]
  },
  {
   "cell_type": "markdown",
   "id": "f40ef654",
   "metadata": {},
   "source": [
    "5. You can apply regularization techniques to your Machine Learning model to deal with overfitting. As the parameter names already suggest, the parameter lambda_l1 is used for L1 regularization and lambda_l2 for L2 regularization. <br>\n",
    "\n",
    "* L1 regularization penalizes the absolute values of the weights and thus is robust against outliers\n",
    "* L2 regularization penalizes the sum of squares of the weights and thus is sensitive to outliers"
   ]
  },
  {
   "cell_type": "markdown",
   "id": "5eaed3e6",
   "metadata": {},
   "source": [
    "You can either decide to use only one of the two types of regularization or you can combine them if you like. For accuracy decrease, for generalization increase.<br>\n",
    "\n",
    "For both parameters, the parameter values behave similarly:\n",
    "\n",
    "* Default: 0 (disabled)\n",
    "* Good starting point for baseline: Default\n",
    "* Tuning range: (0.01, 100)"
   ]
  },
  {
   "cell_type": "markdown",
   "id": "46ad2a2b",
   "metadata": {},
   "source": [
    "**Histogram Algorithm / Binning** (Improve training speed and reduce memory)"
   ]
  },
  {
   "cell_type": "markdown",
   "id": "a3eb3960",
   "metadata": {},
   "source": [
    "Binning is a technique for representing data in a discrete view(histogram). Lightgbm uses a histogram based algorithm to find the optimal split point while creating a weak learner. Therefore, each continuous numeric feature (e.g. number of views for a video) should be split into discrete bins. [6]"
   ]
  },
  {
   "cell_type": "markdown",
   "id": "13bef074",
   "metadata": {},
   "source": [
    "LightGBM training buckets continuous features into discrete bins to improve training speed and reduce memory requirements for training. This binning is done one time during Dataset construction. The number of splits considered when adding a node is O(#feature * #bin), so reducing the number of bins per feature can reduce the number of splits that need to be evaluated. [3]"
   ]
  },
  {
   "cell_type": "markdown",
   "id": "b2554ffe",
   "metadata": {},
   "source": [
    "max_bin is controls the maximum number of bins that features will bucketed into. It is also possible to set this maximum feature-by-feature, by passing max_bin_by_feature. [3]\n",
    "\n",
    "Reduce max_bin or max_bin_by_feature to reduce training time. <br>\n",
    "If you define max_bin 255 that means we can have a maximum of 255 unique values per feature. Then Small max_bin causes faster speed and large value improves accuracy.[3]"
   ]
  },
  {
   "cell_type": "code",
   "execution_count": 72,
   "id": "750c6d41",
   "metadata": {
    "ExecuteTime": {
     "end_time": "2023-07-05T16:25:39.410078Z",
     "start_time": "2023-07-05T16:25:39.407471Z"
    }
   },
   "outputs": [],
   "source": [
    "search_params = {\n",
    "        \"num_leaves\" : [128, 256, 384],\n",
    "        \"max_depth\" : [9, 10, 12, 14, 16],\n",
    "        \"min_data_in_leaf\" : [100, 150, 200],\n",
    "        \"min_gain_in_leaf\" : [7, 8, 9, 10],\n",
    "        \"bagging_fraction\" : [0.5, 0.6, 0.7],\n",
    "        \"feature_fraction\" : [0.7, 0.8, 0.9],\n",
    "        \"reg_alpha\" : [0.01, 0.02, 0.03],\n",
    "        \"reg_lambda\" : [0.01, 0.04, 0.08],\n",
    "        \"learning_rate\" : [0.15, 0.18]\n",
    "}"
   ]
  },
  {
   "cell_type": "code",
   "execution_count": null,
   "id": "31cd7208",
   "metadata": {
    "ExecuteTime": {
     "end_time": "2023-07-05T16:37:08.794845Z",
     "start_time": "2023-07-05T16:25:39.411411Z"
    }
   },
   "outputs": [],
   "source": [
    "%%time\n",
    "warnings.filterwarnings(\"ignore\")\n",
    "\n",
    "# Create the HalvingGridSearchCV object instead of GridSearchCV because the data is large\n",
    "grid_search = HalvingGridSearchCV(estimator=model, param_grid=search_params,\n",
    "                                  cv=5, scoring='neg_root_mean_squared_error',\n",
    "                                  factor=2, n_jobs=-1)\n",
    "\n",
    "# Fit the HalvingGridSearchCV object to the training data\n",
    "grid_search.fit(X_train, y_train.values.ravel())"
   ]
  },
  {
   "cell_type": "code",
   "execution_count": null,
   "id": "824d0932",
   "metadata": {
    "ExecuteTime": {
     "end_time": "2023-07-05T16:37:08.985108Z",
     "start_time": "2023-07-05T16:37:08.802443Z"
    }
   },
   "outputs": [],
   "source": [
    "grid_search.cv_results_"
   ]
  },
  {
   "cell_type": "markdown",
   "id": "4f7cf7fd",
   "metadata": {},
   "source": [
    "# Tuning Parameter"
   ]
  },
  {
   "cell_type": "code",
   "execution_count": 75,
   "id": "85aaf67d",
   "metadata": {
    "ExecuteTime": {
     "end_time": "2023-07-05T16:37:08.990490Z",
     "start_time": "2023-07-05T16:37:08.987114Z"
    }
   },
   "outputs": [
    {
     "name": "stdout",
     "output_type": "stream",
     "text": [
      "Best Parameters: {'bagging_fraction': 0.5, 'feature_fraction': 0.9, 'learning_rate': 0.15, 'max_depth': 12, 'min_data_in_leaf': 100, 'min_gain_in_leaf': 10, 'num_leaves': 128, 'reg_alpha': 0.03, 'reg_lambda': 0.01}\n",
      "Best Score (RMSE): 0.18073859690135854\n"
     ]
    }
   ],
   "source": [
    "# Get the best parameters and best score from the grid search\n",
    "best_params = grid_search.best_params_\n",
    "best_score = grid_search.best_score_\n",
    "\n",
    "print(\"Best Parameters:\", best_params)\n",
    "print(\"Best Score (RMSE):\", -best_score)  # Note the negative sign since GridSearchCV uses negative RMSE as the scoring metric"
   ]
  },
  {
   "cell_type": "code",
   "execution_count": 76,
   "id": "01e5d776",
   "metadata": {
    "ExecuteTime": {
     "end_time": "2023-07-05T16:37:12.144544Z",
     "start_time": "2023-07-05T16:37:08.991855Z"
    }
   },
   "outputs": [
    {
     "name": "stdout",
     "output_type": "stream",
     "text": [
      "[LightGBM] [Warning] Unknown parameter: min_gain_in_leaf\n",
      "[LightGBM] [Warning] feature_fraction is set=0.9, colsample_bytree=1.0 will be ignored. Current value: feature_fraction=0.9\n",
      "[LightGBM] [Warning] bagging_fraction is set=0.5, subsample=1.0 will be ignored. Current value: bagging_fraction=0.5\n",
      "[LightGBM] [Warning] min_data_in_leaf is set=100, min_child_samples=20 will be ignored. Current value: min_data_in_leaf=100\n",
      "[LightGBM] [Warning] Auto-choosing row-wise multi-threading, the overhead of testing was 0.024790 seconds.\n",
      "You can set `force_row_wise=true` to remove the overhead.\n",
      "And if memory is not enough, you can set `force_col_wise=true`.\n",
      "[LightGBM] [Warning] No further splits with positive gain, best gain: -inf\n",
      "[LightGBM] [Warning] No further splits with positive gain, best gain: -inf\n",
      "[LightGBM] [Warning] No further splits with positive gain, best gain: -inf\n"
     ]
    },
    {
     "data": {
      "text/html": [
       "<style>#sk-container-id-4 {color: black;background-color: white;}#sk-container-id-4 pre{padding: 0;}#sk-container-id-4 div.sk-toggleable {background-color: white;}#sk-container-id-4 label.sk-toggleable__label {cursor: pointer;display: block;width: 100%;margin-bottom: 0;padding: 0.3em;box-sizing: border-box;text-align: center;}#sk-container-id-4 label.sk-toggleable__label-arrow:before {content: \"▸\";float: left;margin-right: 0.25em;color: #696969;}#sk-container-id-4 label.sk-toggleable__label-arrow:hover:before {color: black;}#sk-container-id-4 div.sk-estimator:hover label.sk-toggleable__label-arrow:before {color: black;}#sk-container-id-4 div.sk-toggleable__content {max-height: 0;max-width: 0;overflow: hidden;text-align: left;background-color: #f0f8ff;}#sk-container-id-4 div.sk-toggleable__content pre {margin: 0.2em;color: black;border-radius: 0.25em;background-color: #f0f8ff;}#sk-container-id-4 input.sk-toggleable__control:checked~div.sk-toggleable__content {max-height: 200px;max-width: 100%;overflow: auto;}#sk-container-id-4 input.sk-toggleable__control:checked~label.sk-toggleable__label-arrow:before {content: \"▾\";}#sk-container-id-4 div.sk-estimator input.sk-toggleable__control:checked~label.sk-toggleable__label {background-color: #d4ebff;}#sk-container-id-4 div.sk-label input.sk-toggleable__control:checked~label.sk-toggleable__label {background-color: #d4ebff;}#sk-container-id-4 input.sk-hidden--visually {border: 0;clip: rect(1px 1px 1px 1px);clip: rect(1px, 1px, 1px, 1px);height: 1px;margin: -1px;overflow: hidden;padding: 0;position: absolute;width: 1px;}#sk-container-id-4 div.sk-estimator {font-family: monospace;background-color: #f0f8ff;border: 1px dotted black;border-radius: 0.25em;box-sizing: border-box;margin-bottom: 0.5em;}#sk-container-id-4 div.sk-estimator:hover {background-color: #d4ebff;}#sk-container-id-4 div.sk-parallel-item::after {content: \"\";width: 100%;border-bottom: 1px solid gray;flex-grow: 1;}#sk-container-id-4 div.sk-label:hover label.sk-toggleable__label {background-color: #d4ebff;}#sk-container-id-4 div.sk-serial::before {content: \"\";position: absolute;border-left: 1px solid gray;box-sizing: border-box;top: 0;bottom: 0;left: 50%;z-index: 0;}#sk-container-id-4 div.sk-serial {display: flex;flex-direction: column;align-items: center;background-color: white;padding-right: 0.2em;padding-left: 0.2em;position: relative;}#sk-container-id-4 div.sk-item {position: relative;z-index: 1;}#sk-container-id-4 div.sk-parallel {display: flex;align-items: stretch;justify-content: center;background-color: white;position: relative;}#sk-container-id-4 div.sk-item::before, #sk-container-id-4 div.sk-parallel-item::before {content: \"\";position: absolute;border-left: 1px solid gray;box-sizing: border-box;top: 0;bottom: 0;left: 50%;z-index: -1;}#sk-container-id-4 div.sk-parallel-item {display: flex;flex-direction: column;z-index: 1;position: relative;background-color: white;}#sk-container-id-4 div.sk-parallel-item:first-child::after {align-self: flex-end;width: 50%;}#sk-container-id-4 div.sk-parallel-item:last-child::after {align-self: flex-start;width: 50%;}#sk-container-id-4 div.sk-parallel-item:only-child::after {width: 0;}#sk-container-id-4 div.sk-dashed-wrapped {border: 1px dashed gray;margin: 0 0.4em 0.5em 0.4em;box-sizing: border-box;padding-bottom: 0.4em;background-color: white;}#sk-container-id-4 div.sk-label label {font-family: monospace;font-weight: bold;display: inline-block;line-height: 1.2em;}#sk-container-id-4 div.sk-label-container {text-align: center;}#sk-container-id-4 div.sk-container {/* jupyter's `normalize.less` sets `[hidden] { display: none; }` but bootstrap.min.css set `[hidden] { display: none !important; }` so we also need the `!important` here to be able to override the default hidden behavior on the sphinx rendered scikit-learn.org. See: https://github.com/scikit-learn/scikit-learn/issues/21755 */display: inline-block !important;position: relative;}#sk-container-id-4 div.sk-text-repr-fallback {display: none;}</style><div id=\"sk-container-id-4\" class=\"sk-top-container\"><div class=\"sk-text-repr-fallback\"><pre>LGBMRegressor(bagging_fraction=0.5, feature_fraction=0.9, learning_rate=0.15,\n",
       "              max_bin=350, max_depth=12, metric=&#x27;rmse&#x27;, min_data_in_leaf=100,\n",
       "              min_gain_in_leaf=10, num_leaves=128, random_state=33,\n",
       "              reg_alpha=0.03, reg_lambda=0.01, verbosity=0)</pre><b>In a Jupyter environment, please rerun this cell to show the HTML representation or trust the notebook. <br />On GitHub, the HTML representation is unable to render, please try loading this page with nbviewer.org.</b></div><div class=\"sk-container\" hidden><div class=\"sk-item\"><div class=\"sk-estimator sk-toggleable\"><input class=\"sk-toggleable__control sk-hidden--visually\" id=\"sk-estimator-id-8\" type=\"checkbox\" checked><label for=\"sk-estimator-id-8\" class=\"sk-toggleable__label sk-toggleable__label-arrow\">LGBMRegressor</label><div class=\"sk-toggleable__content\"><pre>LGBMRegressor(bagging_fraction=0.5, feature_fraction=0.9, learning_rate=0.15,\n",
       "              max_bin=350, max_depth=12, metric=&#x27;rmse&#x27;, min_data_in_leaf=100,\n",
       "              min_gain_in_leaf=10, num_leaves=128, random_state=33,\n",
       "              reg_alpha=0.03, reg_lambda=0.01, verbosity=0)</pre></div></div></div></div></div>"
      ],
      "text/plain": [
       "LGBMRegressor(bagging_fraction=0.5, feature_fraction=0.9, learning_rate=0.15,\n",
       "              max_bin=350, max_depth=12, metric='rmse', min_data_in_leaf=100,\n",
       "              min_gain_in_leaf=10, num_leaves=128, random_state=33,\n",
       "              reg_alpha=0.03, reg_lambda=0.01, verbosity=0)"
      ]
     },
     "execution_count": 76,
     "metadata": {},
     "output_type": "execute_result"
    }
   ],
   "source": [
    "# Train the final model with the best hyperparameters on the entire training set\n",
    "final_model = lgb.LGBMRegressor(**best_params, random_state=33,\n",
    "                                max_bin=350, metric='rmse', verbosity=0)\n",
    "final_model.fit(X_train, y_train)"
   ]
  },
  {
   "cell_type": "code",
   "execution_count": 77,
   "id": "982cee2a",
   "metadata": {
    "ExecuteTime": {
     "end_time": "2023-07-05T16:37:15.964343Z",
     "start_time": "2023-07-05T16:37:12.146583Z"
    }
   },
   "outputs": [],
   "source": [
    "# Predict the labels of the test set\n",
    "y_pred_train_final = final_model.predict(X_train)\n",
    "y_pred_test_final = final_model.predict(X_test)"
   ]
  },
  {
   "cell_type": "code",
   "execution_count": 78,
   "id": "b025bf02",
   "metadata": {
    "ExecuteTime": {
     "end_time": "2023-07-05T16:37:16.030687Z",
     "start_time": "2023-07-05T16:37:15.966405Z"
    }
   },
   "outputs": [],
   "source": [
    "# Calculate evaluation metrics for the training set\n",
    "r2_train_final = r2_score(y_train, y_pred_train_final)\n",
    "mae_train_final = mean_absolute_error(y_train, y_pred_train_final)\n",
    "mse_train_final = mean_squared_error(y_train, y_pred_train_final)\n",
    "rmse_train_final = np.sqrt(mean_squared_error(y_train, y_pred_train_final))\n",
    "\n",
    "# Calculate evaluation metrics for the test set\n",
    "r2_test_final = r2_score(y_test, y_pred_test_final)\n",
    "mae_test_final = mean_absolute_error(y_test, y_pred_test_final)\n",
    "mse_test_final = mean_squared_error(y_test, y_pred_test_final)\n",
    "rmse_test_final = np.sqrt(mean_squared_error(y_test, y_pred_test_final))"
   ]
  },
  {
   "cell_type": "code",
   "execution_count": 79,
   "id": "11896916",
   "metadata": {
    "ExecuteTime": {
     "end_time": "2023-07-05T16:37:16.037833Z",
     "start_time": "2023-07-05T16:37:16.032966Z"
    },
    "scrolled": true
   },
   "outputs": [
    {
     "name": "stdout",
     "output_type": "stream",
     "text": [
      "Training set:\n",
      "R^2: 0.963\n",
      "MAE: 0.046\n",
      "MSE: 0.023\n",
      "RMSE: 0.151\n",
      "\n",
      "Test set:\n",
      "R^2: 0.954\n",
      "MAE: 0.048\n",
      "MSE: 0.028\n",
      "RMSE: 0.168\n",
      "Overfit ratio: 1.242\n"
     ]
    }
   ],
   "source": [
    "# Print the evaluation metrics for both training and test sets\n",
    "print(\"Training set:\")\n",
    "print(f\"R^2: {r2_train_final:.3f}\")\n",
    "print(f\"MAE: {mae_train_final:.3f}\")\n",
    "print(f\"MSE: {mse_train_final:.3f}\")\n",
    "print(f\"RMSE: {rmse_train_final:.3f}\")\n",
    "\n",
    "print(\"\\nTest set:\")\n",
    "print(f\"R^2: {r2_test_final:.3f}\")\n",
    "print(f\"MAE: {mae_test_final:.3f}\")\n",
    "print(f\"MSE: {mse_test_final:.3f}\")\n",
    "print(f\"RMSE: {rmse_test_final:.3f}\")\n",
    "\n",
    "print(f\"Overfit ratio: {mse_test_final/mse_train_final:.3f}\")"
   ]
  },
  {
   "cell_type": "markdown",
   "id": "8d4e47ed",
   "metadata": {},
   "source": [
    "# Hyperparameter Combination Searching Process:"
   ]
  },
  {
   "cell_type": "markdown",
   "id": "f9afd4f4",
   "metadata": {
    "ExecuteTime": {
     "end_time": "2023-07-05T04:51:49.415547Z",
     "start_time": "2023-07-05T04:51:49.412126Z"
    }
   },
   "source": [
    "**First Try: Some random initial values around the recommended range** <br>\n",
    "* search_params = {\n",
    "        \"num_leaves\" : [128, 256 , 512],\n",
    "        \"max_depth\" : [8, 9, 10],\n",
    "        \"min_data_in_leaf\" : [100, 150, 200],\n",
    "        \"min_gain_in_leaf\" : [7, 8, 9, 10],\n",
    "        \"bagging_fraction\" : [0.5, 0.6, 0.7],\n",
    "        \"feature_fraction\" : [0.5, 0.6, 0.7],\n",
    "        \"reg_alpha\" : [0.01, 0.04, 0.08],\n",
    "        \"reg_lambda\" : [0.01, 0.04, 0.08],\n",
    "        \"learning_rate\" : [0.03]\n",
    "}\n",
    "***\n",
    "* Training set:\n",
    "R^2: 0.865\n",
    "MAE: 0.186\n",
    "MSE: 0.084\n",
    "RMSE: 0.290\n",
    "\n",
    "* Test set:\n",
    "R^2: 0.863\n",
    "MAE: 0.187\n",
    "MSE: 0.085\n",
    "RMSE: 0.291\n",
    "Overfit ratio: 1.011"
   ]
  },
  {
   "cell_type": "markdown",
   "id": "d449f30e",
   "metadata": {},
   "source": [
    "> The error went higher than the baseline model, RMSE Tuning Model (0.291) > RMSE Base Model (0.205)"
   ]
  },
  {
   "cell_type": "markdown",
   "id": "424c3edd",
   "metadata": {},
   "source": [
    "**Second Try: Try to get more max depth of tree (num_leaves follow) and slower learning rate**\n",
    "\n",
    "* search_params = {\n",
    "        \"num_leaves\" : [2048, 8192 , 32768],\n",
    "        \"max_depth\" : [12, 14, 16],\n",
    "        \"min_data_in_leaf\" : [100, 150, 200],\n",
    "        \"min_gain_in_leaf\" : [7, 8, 9, 10],\n",
    "        \"bagging_fraction\" : [0.5, 0.6, 0.7],\n",
    "        \"feature_fraction\" : [0.5, 0.6, 0.7],\n",
    "        \"reg_alpha\" : [0.01, 0.04, 0.08],\n",
    "        \"reg_lambda\" : [0.01, 0.04, 0.08],\n",
    "        \"learning_rate\" : [0.001,0.01]\n",
    "}\n",
    "***\n",
    "Training set:\n",
    "R^2: 0.918\n",
    "MAE: 0.128\n",
    "MSE: 0.051\n",
    "RMSE: 0.226\n",
    "\n",
    "Test set:\n",
    "R^2: 0.913\n",
    "MAE: 0.131\n",
    "MSE: 0.054\n",
    "RMSE: 0.233\n",
    "Overfit ratio: 1.064"
   ]
  },
  {
   "cell_type": "markdown",
   "id": "66fd5782",
   "metadata": {},
   "source": [
    "> The error still higher than the baseline model but better than the first one, RMSE Tuning Model (0.233) > RMSE Base Model (0.205)"
   ]
  },
  {
   "cell_type": "markdown",
   "id": "6061e71e",
   "metadata": {},
   "source": [
    "**Third Try: Same hyperparameter like the first one but tried to bit faster learning rate (still intersect with second try range)**\n",
    "\n",
    "search_params = {\n",
    "        \"num_leaves\" : [128, 256 , 512],\n",
    "        \"max_depth\" : [8, 9, 10],\n",
    "        \"min_data_in_leaf\" : [100, 150, 200],\n",
    "        \"min_gain_in_leaf\" : [7, 8, 9, 10],\n",
    "        \"bagging_fraction\" : [0.5, 0.6, 0.7],\n",
    "        \"feature_fraction\" : [0.5, 0.6, 0.7],\n",
    "        \"reg_alpha\" : [0.01, 0.04, 0.08],\n",
    "        \"reg_lambda\" : [0.01, 0.04, 0.08],\n",
    "        \"learning_rate\" : [0.05, 0.07, 0.09]\n",
    "}\n",
    "***\n",
    "Training set:\n",
    "R^2: 0.931\n",
    "MAE: 0.112\n",
    "MSE: 0.043\n",
    "RMSE: 0.207\n",
    "\n",
    "Test set:\n",
    "R^2: 0.925\n",
    "MAE: 0.115\n",
    "MSE: 0.046\n",
    "RMSE: 0.215\n",
    "Overfit ratio: 1.085"
   ]
  },
  {
   "cell_type": "markdown",
   "id": "53100d29",
   "metadata": {},
   "source": [
    "> The error went lower than the first try and more near to base model, RMSE Tuning Model (0.215) > RMSE Base Model (0.205), but the the overfitting ratio getting higher"
   ]
  },
  {
   "cell_type": "markdown",
   "id": "b5116658",
   "metadata": {},
   "source": [
    "**Fourth Try: Same like before but bit faster learning rate**\n",
    "\n",
    "search_params = {\n",
    "        \"num_leaves\" : [128, 256 , 512],\n",
    "        \"max_depth\" : [9, 10, 12, 14, 16],\n",
    "        \"min_data_in_leaf\" : [100, 150, 200],\n",
    "        \"min_gain_in_leaf\" : [7, 8, 9, 10],\n",
    "        \"bagging_fraction\" : [0.5, 0.6, 0.7],\n",
    "        \"feature_fraction\" : [0.5, 0.6, 0.7],\n",
    "        \"reg_alpha\" : [0.01, 0.02, 0.03],\n",
    "        \"reg_lambda\" : [0.01, 0.04, 0.08],\n",
    "        \"learning_rate\" : [0.15, 0.18]\n",
    "}\n",
    "***\n",
    "Training set:\n",
    "R^2: 0.958\n",
    "MAE: 0.067\n",
    "MSE: 0.026\n",
    "RMSE: 0.161\n",
    "\n",
    "Test set:\n",
    "R^2: 0.947\n",
    "MAE: 0.071\n",
    "MSE: 0.033\n",
    "RMSE: 0.181\n",
    "Overfit ratio: 1.266"
   ]
  },
  {
   "cell_type": "markdown",
   "id": "96cba4c5",
   "metadata": {},
   "source": [
    "> The error of tuning model better than base model for 11,71% with RMSE Tuning Model (0.181) > RMSE Base Model (0.205) but the overfitting ratio is higher than before."
   ]
  },
  {
   "cell_type": "markdown",
   "id": "f978581e",
   "metadata": {},
   "source": [
    "**Final Try: I try to lowering the upper limit and get higher column sampling (feature_fraction) to overcome the overfitting**\n",
    "\n",
    "search_params = {\n",
    "        \"num_leaves\" : [128, 256, 384],\n",
    "        \"max_depth\" : [9, 10, 12, 14, 16],\n",
    "        \"min_data_in_leaf\" : [100, 150, 200],\n",
    "        \"min_gain_in_leaf\" : [7, 8, 9, 10],\n",
    "        \"bagging_fraction\" : [0.5, 0.6, 0.7],\n",
    "        \"feature_fraction\" : [0.7, 0.8, 0.9],\n",
    "        \"reg_alpha\" : [0.01, 0.02, 0.03],\n",
    "        \"reg_lambda\" : [0.01, 0.04, 0.08],\n",
    "        \"learning_rate\" : [0.15, 0.18]\n",
    "}\n",
    "***\n",
    "Training set:\n",
    "R^2: 0.963\n",
    "MAE: 0.046\n",
    "MSE: 0.023\n",
    "RMSE: 0.151\n",
    "\n",
    "Test set:\n",
    "R^2: 0.954\n",
    "MAE: 0.048\n",
    "MSE: 0.028\n",
    "RMSE: 0.168\n",
    "Overfit ratio: 1.242"
   ]
  },
  {
   "cell_type": "markdown",
   "id": "2dbbddbd",
   "metadata": {},
   "source": [
    "> Improved for 18,05% with RMSE Tuning Model (0.168) > RMSE Base Model (0.205) but the overfitting ratio was same as before, hence the statement of \"Deal with Over-fitting [3]\" above is true."
   ]
  },
  {
   "cell_type": "markdown",
   "id": "e6496341",
   "metadata": {},
   "source": [
    "# Conclusion"
   ]
  },
  {
   "cell_type": "markdown",
   "id": "d1853f5c",
   "metadata": {},
   "source": [
    "* The overfit ratio of 1.242 suggests that the model may be slightly overfitting, but overall the model performs well in predicting the trip duration, with high R-squared values and relatively low MAE, MSE, and RMSE values.\n",
    "***\n",
    "Suggestion:\n",
    "The experimental process of LightGBM to reduce error on large dataset (1,458,644 rows) using 20,000 combinations of hyperparameter using HalvingGridSearchCV was still applicable but it's not recommended since imo the limitation of the jupyternotebook (I can't open cus 200++MB lol)."
   ]
  }
 ],
 "metadata": {
  "kernelspec": {
   "display_name": "Python 3 (ipykernel)",
   "language": "python",
   "name": "python3"
  },
  "language_info": {
   "codemirror_mode": {
    "name": "ipython",
    "version": 3
   },
   "file_extension": ".py",
   "mimetype": "text/x-python",
   "name": "python",
   "nbconvert_exporter": "python",
   "pygments_lexer": "ipython3",
   "version": "3.9.12"
  },
  "nbTranslate": {
   "displayLangs": [
    "*"
   ],
   "hotkey": "alt-t",
   "langInMainMenu": true,
   "sourceLang": "en",
   "targetLang": "fr",
   "useGoogleTranslate": true
  },
  "toc": {
   "base_numbering": 1,
   "nav_menu": {},
   "number_sections": true,
   "sideBar": true,
   "skip_h1_title": false,
   "title_cell": "Table of Contents",
   "title_sidebar": "Contents",
   "toc_cell": false,
   "toc_position": {
    "height": "calc(100% - 180px)",
    "left": "10px",
    "top": "150px",
    "width": "384px"
   },
   "toc_section_display": true,
   "toc_window_display": false
  },
  "varInspector": {
   "cols": {
    "lenName": 16,
    "lenType": 16,
    "lenVar": 40
   },
   "kernels_config": {
    "python": {
     "delete_cmd_postfix": "",
     "delete_cmd_prefix": "del ",
     "library": "var_list.py",
     "varRefreshCmd": "print(var_dic_list())"
    },
    "r": {
     "delete_cmd_postfix": ") ",
     "delete_cmd_prefix": "rm(",
     "library": "var_list.r",
     "varRefreshCmd": "cat(var_dic_list()) "
    }
   },
   "types_to_exclude": [
    "module",
    "function",
    "builtin_function_or_method",
    "instance",
    "_Feature"
   ],
   "window_display": false
  }
 },
 "nbformat": 4,
 "nbformat_minor": 5
}
